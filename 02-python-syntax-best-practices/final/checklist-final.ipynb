{
 "cells": [
  {
   "cell_type": "markdown",
   "id": "d28b45d6-72ce-4f74-9513-64ce5029a5fc",
   "metadata": {},
   "source": [
    "# _The Zen of Python_ and the Checklist App (final)"
   ]
  },
  {
   "cell_type": "markdown",
   "id": "b7779b2e-c64b-49ed-851a-5ee30a1cd106",
   "metadata": {},
   "source": [
    "## _The Zen of Python_\n",
    "\n",
    "If you want to program in Python, you need to read _The Zen of Python_ — or at least activate the Easter egg!"
   ]
  },
  {
   "cell_type": "code",
   "execution_count": null,
   "id": "61716e75-e3ae-4313-a88b-d3127e2a3c8f",
   "metadata": {},
   "outputs": [],
   "source": [
    "import this"
   ]
  },
  {
   "cell_type": "markdown",
   "id": "47e70ca4-f1c1-4c93-8ced-6ad7fc0b840c",
   "metadata": {},
   "source": [
    "## Checklist App\n",
    "\n",
    "This is a simple checklist app where the user can do the following:\n",
    "\n",
    "1. View the checklist, where each item has a name, a status (checked or unchecked), and a priority (low, medium, or high).\n",
    "2. Check an item in the checklist.\n",
    "3. Uncheck an item in the checklist.\n",
    "4. Add an item to the checklist, where they specify the name and its priority. Newly-added items are always unchecked.\n",
    "5. Edit an item in the checklist. This allows the user to change the item’s name and priority.\n",
    "6. Delete an item from the checklist.\n",
    "\n",
    "The app uses the `ChecklistItem` class covered in the lesson’s section on classes and instances and introduces a number of functions to manage the checklist. The complete code for the app is in the code cells below.\n",
    "\n",
    "This is the _final_ version of the notebook. It’s the finished version of the demo, and contains the refactored version of the original app."
   ]
  },
  {
   "cell_type": "code",
   "execution_count": null,
   "id": "b6e27cf2-3eb3-4e21-a48b-7fd203c18c36",
   "metadata": {},
   "outputs": [],
   "source": [
    "class ChecklistItem:\n",
    "    \"\"\"\n",
    "    Represents an item in a checklist or \"to-do\" list.\n",
    "\n",
    "    Checklist items have the following properties:\n",
    "    - name: Name of the item to display in the list\n",
    "    - priority: Can be \"low\", \"medium\", or \"high\".\n",
    "                The default is \"medium\".\n",
    "    - checked: Can be True (checked) or False (unchecked).\n",
    "               The default is True.\n",
    "    \"\"\"\n",
    "\n",
    "    # Class attribute\n",
    "    PRIORITY_LEVELS = [\"low\", \"medium\", \"high\"]\n",
    "\n",
    "    def __init__(self, name, checked=False, priority=\"medium\"):\n",
    "        \"\"\"Initialize the item.\"\"\"\n",
    "    \n",
    "        # Instance attributes\n",
    "        self.name = name\n",
    "        self.checked = checked\n",
    "        self.priority = priority # `self.priority` is the property;\n",
    "                                 # `priority` is the parameter.\n",
    "\n",
    "    def priority_emoji(self):\n",
    "        \"\"\"Return the item's priority as an colored emoji.\"\"\"\n",
    "        icons = {\n",
    "            \"low\"   : \"🟢\",\n",
    "            \"medium\": \"🟨\",\n",
    "            \"high\"  : \"🔴\"\n",
    "        }\n",
    "        return icons[self.priority]\n",
    "\n",
    "    @property\n",
    "    def priority(self):\n",
    "        return self._priority\n",
    "    \n",
    "    @priority.setter\n",
    "    def priority(self, value):\n",
    "        \"\"\"Setter for item's priority.\"\"\"\n",
    "    \n",
    "        # Limit `priority` to allowed values\n",
    "        if value not in self.PRIORITY_LEVELS:\n",
    "            raise ValueError(\"Priority must be 'low', 'medium', or 'high'\")\n",
    "    \n",
    "        # If the `_priority` instance attribute has not previously been defined, define it;\n",
    "        # otherwise, simply update its value\n",
    "        self._priority = value\n",
    "\n",
    "    def __str__(self):\n",
    "        \"\"\"Return a user-friendly string representation of the item.\"\"\"\n",
    "        return f\"{\"✅\" if self.checked else \"⬜️\"} {self.name} {self.priority_emoji()}({self.priority})\"\n",
    "\n",
    "    def __repr__(self):\n",
    "        \"\"\"Return a developer-facing string representation of the item.\"\"\"\n",
    "        return f\"name: {self.name} / priority: {self.priority} / checked: {self.checked}\""
   ]
  },
  {
   "cell_type": "code",
   "execution_count": null,
   "id": "36e3758b-ed7d-4fdc-9f1b-ea7b03213582",
   "metadata": {},
   "outputs": [],
   "source": [
    "# Initial checklist\n",
    "checklist = [\n",
    "    ChecklistItem(\"Clean the living room\"),\n",
    "    ChecklistItem(\"Walk the dog\", True, \"high\"),\n",
    "    ChecklistItem(\"Buy groceries\"),\n",
    "    ChecklistItem(\"Make dinner\", priority=\"high\"),\n",
    "    ChecklistItem(\"Fix toaster\"),\n",
    "]"
   ]
  },
  {
   "cell_type": "code",
   "execution_count": null,
   "id": "398b09fd-7217-49f7-b0ed-bed976acda49",
   "metadata": {},
   "outputs": [],
   "source": [
    "checklist"
   ]
  },
  {
   "cell_type": "code",
   "execution_count": null,
   "id": "e1d0f8ec-f0dd-498a-9026-aa448fcf92b7",
   "metadata": {},
   "outputs": [],
   "source": [
    "print(checklist[1])"
   ]
  },
  {
   "cell_type": "code",
   "execution_count": null,
   "id": "076a0c21-58ae-49bd-806f-95aeb5f48a7e",
   "metadata": {},
   "outputs": [],
   "source": [
    "# Show the user the checklist\n",
    "def display_checklist(checklist):\n",
    "    \"\"\"Show the user the checklist.\"\"\"\n",
    "    if checklist:\n",
    "        for index, item in enumerate(checklist, start=1):\n",
    "            print(f\"{index}: {item}\")\n",
    "    else:\n",
    "        print(\"The checklist is empty.\")"
   ]
  },
  {
   "cell_type": "code",
   "execution_count": null,
   "id": "4384011f-61f9-4f65-8190-0164004fd6fb",
   "metadata": {},
   "outputs": [],
   "source": [
    "display_checklist(checklist)"
   ]
  },
  {
   "cell_type": "code",
   "execution_count": null,
   "id": "cc76e5c5-383b-4fb5-b879-523fb6a8c6c8",
   "metadata": {},
   "outputs": [],
   "source": [
    "def add_item_to_checklist(checklist):\n",
    "    \"\"\"\n",
    "    Get an item name and priority from the user\n",
    "    and add it to the checklist.\n",
    "    \"\"\"\n",
    "    while True:\n",
    "        name = input(\"What's the item's name?\").strip()\n",
    "        if name:\n",
    "            break\n",
    "        print(\"Please enter a name for the item.\")\n",
    "    while True:\n",
    "        priority = input(\"What's its priority (low, medium, or high)?\").strip().lower()\n",
    "        if priority in [\"low\", \"medium\", \"high\"]:\n",
    "            break\n",
    "        else:\n",
    "            print(\"Please enter 'low', 'medium', or 'high'.\")\n",
    "    new_item = ChecklistItem(name, False, priority)\n",
    "    checklist.append(new_item)"
   ]
  },
  {
   "cell_type": "code",
   "execution_count": null,
   "id": "eb9aac99-1746-425a-a27b-ea63a06a7fbe",
   "metadata": {},
   "outputs": [],
   "source": [
    "def edit_item_in_checklist(checklist):\n",
    "    \"\"\"\n",
    "    Ask the user to select a checklist item,\n",
    "    then let them edit its name and priority.\n",
    "    \"\"\"\n",
    "    if not checklist:\n",
    "        print(\"There are no items in the checklist. There's nothing to edit.\")\n",
    "        return\n",
    "    \n",
    "    print(\"Here are the items:\")\n",
    "    display_checklist(checklist)\n",
    "    index = int(input(\"Which item do you want to edit?\")) - 1\n",
    "    if 0 <= index < len(checklist):\n",
    "        while True:\n",
    "            name = input(\"What's the item's name?\").strip()\n",
    "            if name:\n",
    "                break\n",
    "            print(\"Please enter a name for the item.\")\n",
    "        while True:\n",
    "            priority = input(\"What do you want to change the priority to (low, medium, or high)?\")\n",
    "            if priority in [\"low\", \"medium\", \"high\"]:\n",
    "                break\n",
    "            print(\"Please enter 'low', 'medium', or 'high'.\")\n",
    "        checklist[index].name = name\n",
    "        checklist[index].priority = priority"
   ]
  },
  {
   "cell_type": "code",
   "execution_count": null,
   "id": "cde3875b-7f66-4416-83c3-457cf6088cf5",
   "metadata": {},
   "outputs": [],
   "source": [
    "def delete_item_from_checklist(checklist):\n",
    "    \"\"\"\n",
    "    Ask the user to select a checklist item,\n",
    "    then delete it if they're sure.\n",
    "    \"\"\"\n",
    "    if not checklist:\n",
    "        print(\"There are no items in the checklist. There's nothing to edit.\")\n",
    "        return\n",
    "        \n",
    "    print(\"Here are the items:\")\n",
    "    display_checklist(checklist)\n",
    "    index = int(input(\"Which item do you want to edit?\")) - 1\n",
    "    if 0 <= index < len(checklist):\n",
    "        question = f\"Are you sure you want to delete {checklist[index].name}?\"\n",
    "        answer = input(question).strip().lower()\n",
    "        if answer.lower() in [\"y\", \"yes\", \"ok\", \"okey dokey\"]:\n",
    "            deleted_item = checklist.pop(index)\n",
    "            print(f\"Deleted {deleted_item.name}.\")"
   ]
  },
  {
   "cell_type": "code",
   "execution_count": null,
   "id": "bf7a3959-207d-4224-9853-668206d9ad4d",
   "metadata": {},
   "outputs": [],
   "source": [
    "def check_item(checklist):\n",
    "    \"\"\"Ask the user to select an item to check, then check it.\"\"\"\n",
    "    if not checklist:\n",
    "        print(\"There are no items in the checklist. There's nothing to check.\")\n",
    "        return\n",
    "        \n",
    "    print(\"Here are the items:\")\n",
    "    display_checklist(checklist)\n",
    "    index = int(input(\"Which item do you want to check?\")) - 1\n",
    "    if 0 <= index < len(checklist):\n",
    "        checklist[index].checked = True\n",
    "        print(f\"{checklist[index].name} has been checked!\")\n",
    "\n",
    "def uncheck_item(checklist):\n",
    "    \"\"\"Ask the user to select an item to uncheck, then uncheck it.\"\"\"\n",
    "    if not checklist:\n",
    "        print(\"There are no items in the checklist. There's nothing to uncheck.\")\n",
    "        return\n",
    "        \n",
    "    print(\"Here are the items:\")\n",
    "    display_checklist(checklist)\n",
    "    index = int(input(\"Which item do you want to uncheck?\")) - 1\n",
    "    if 0 <= index < len(checklist):\n",
    "        checklist[index].checked = False\n",
    "        print(f\"{checklist[index].name} has been unchecked!\")"
   ]
  },
  {
   "cell_type": "code",
   "execution_count": null,
   "id": "250205eb-5606-464d-bd3d-fafc0c897c0e",
   "metadata": {},
   "outputs": [],
   "source": [
    "def main():\n",
    "    while True:\n",
    "        print(\"Checklist\")\n",
    "        print(\"---------\")\n",
    "        print(\"1. View the checklist\")\n",
    "        print(\"2. Check an item in the checklist\")\n",
    "        print(\"3. Uncheck an item in the checklist\")\n",
    "        print(\"4. Add an item to the checklist\")\n",
    "        print(\"5. Edit an item in the checklist\")\n",
    "        print(\"6. Delete an item from the checklist\")\n",
    "        print(\"7. Quit\")\n",
    "        choice = int(input(\"What would you like to do?\").strip())\n",
    "    \n",
    "        # Act on the user’s selection\n",
    "        ACTIONS = {\n",
    "            1: display_checklist,\n",
    "            2: check_item,\n",
    "            3: uncheck_item,\n",
    "            4: add_item_to_checklist,\n",
    "            5: edit_item_in_checklist,\n",
    "            6: delete_item_from_checklist,\n",
    "        }\n",
    "        print(\"\\n\")\n",
    "        if 1 <= choice <= 6:\n",
    "            ACTIONS[choice](checklist)\n",
    "        elif choice == 7:\n",
    "            break\n",
    "        else:\n",
    "            print(\"Please enter a valid choice (1 - 7).\")\n",
    "        print(\"\\n\")"
   ]
  },
  {
   "cell_type": "code",
   "execution_count": null,
   "id": "ceb317fe-79c0-43b4-b88e-df3062b42310",
   "metadata": {},
   "outputs": [],
   "source": [
    "main()"
   ]
  }
 ],
 "metadata": {
  "kernelspec": {
   "display_name": "Python 3 (ipykernel)",
   "language": "python",
   "name": "python3"
  },
  "language_info": {
   "codemirror_mode": {
    "name": "ipython",
    "version": 3
   },
   "file_extension": ".py",
   "mimetype": "text/x-python",
   "name": "python",
   "nbconvert_exporter": "python",
   "pygments_lexer": "ipython3",
   "version": "3.12.4"
  }
 },
 "nbformat": 4,
 "nbformat_minor": 5
}
