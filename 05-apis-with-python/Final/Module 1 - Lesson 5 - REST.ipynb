{
 "cells": [
  {
   "cell_type": "markdown",
   "id": "f0af951f-d088-45ba-8ac7-b87c65a7639b",
   "metadata": {},
   "source": [
    "# Lesson 5 REST Demo"
   ]
  },
  {
   "cell_type": "markdown",
   "id": "b0e609d6-83cb-4b7f-814b-5d783601b713",
   "metadata": {},
   "source": [
    "## Retrieving Information From Web Pages\n",
    "\n",
    "You may occasionally need to GET the contents of web pages in order to “scrape” text information from sites that wouldn’t otherwise be accessible via an API.  Fortunately, the `requests` library is equally useful for retrieving the contents of web pages as it is for accessing APIs.\n",
    "\n",
    "One example use case is performing sentiment analysis on messages in online forums; you could GET the content of pages on a particular topic, use string methods to extract relevant information, and then either use that information to train a model or provide that information to an LLM for analysis.\n",
    "\n",
    "### GETting a Web Page From a URL\n",
    "\n",
    "Let’s start with the kind of GET request that billions of people use every day: a request for the contents of a web page. In this case, we’ll use a GET request to retrieve the contents of Kodeco’s home page."
   ]
  },
  {
   "cell_type": "code",
   "execution_count": null,
   "id": "be5d098d-d7e2-4ddf-8e73-0c67fe7d7933",
   "metadata": {},
   "outputs": [],
   "source": [
    "import requests\n",
    "\n",
    "response = requests.get(\"https://kodeco.com/\")\n",
    "\n",
    "if response.status_code == 200:\n",
    "    print(\"Successfully retrieved the web page!\")\n",
    "    print(f\"Status code: {response.status_code}.\")\n",
    "    print(f\"Content type: {response.headers[\"Content-Type\"]}.\")\n",
    "    print(\"=====\")\n",
    "    print(response.text)\n",
    "else:\n",
    "    print(f\"Failed to retrieve the web page. Status code: {response.status_code}.\")"
   ]
  },
  {
   "cell_type": "markdown",
   "id": "06373685-67d3-4134-98ac-d3b251e05c14",
   "metadata": {},
   "source": [
    "This code sends a GET request to Kodeco’s server for the resource located at the URL `https://kodeco.com/`, which doesn’t include a pathname or filename. Since the URL ends with a directory and not a filename, it returns the default resource located at `kodeco.com`, the HTML file defining Kodeco’s home page.\n",
    "\n",
    "Because a resource exists at `kodeco.com`, the server can fulfill the GET request made by the code. As a result, the server’s response includes the status code `200`, meaning “OK” and indicating success. This value is contained in the response object’s `status_code` property.\n",
    "\n",
    "Although we know that `kodeco.com` is the location of Kodeco’s home page, the code confirms that the resource is HTML data. It does this by accessing the response object’s `headers` property, which contains the headers of the response in Python dictionary form. The `Content-Type` header — the value corresponding to `headers`’ `Content-Type` key — for this request is `text/html; charset=utf-8`, indicating that the response is HTML content using the UTF-8 encoding standard, which supports a wide array of characters.\n",
    "\n",
    "Since the response contains HTML data, we use the response’s `text` property to access the response body, which returns it as a string. The code then displays this string.\n",
    "\n",
    "Your browser executes a similar GET request when you point it at `kodeco.com`; the difference is that it renders the HTML as a web page instead of simply displaying it."
   ]
  },
  {
   "cell_type": "markdown",
   "id": "fbb5b0ce-4da2-4f2c-a778-29e3d413cf0c",
   "metadata": {},
   "source": [
    "### GETting a Web Page From an Invalid URL\n",
    "\n",
    "What happens when you try to GET from a URL that doesn’t correspond to a web resource? You can find out by changing the URL in the previous code to one for a resource that doesn’t exist.\n",
    "\n",
    "Update the definition of the `response` variable in the previous code to the following, then run the cell again:\n",
    "\n",
    "```python\n",
    "response = requests.get(\"https://kodeco.com/non-existent-page\")\n",
    "```"
   ]
  },
  {
   "cell_type": "code",
   "execution_count": null,
   "id": "80249c1a-c181-4183-99c6-1dac11d20120",
   "metadata": {},
   "outputs": [],
   "source": [
    "response = requests.get(\"https://kodeco.com/non-existent-page\")\n",
    "\n",
    "if response.status_code == 200:\n",
    "    print(\"Successfully retrieved the web page!\")\n",
    "    print(f\"Status code: {response.status_code}.\")\n",
    "    print(f\"Content type: {response.headers[\"Content-Type\"]}.\")\n",
    "    print(\"=====\")\n",
    "    print(response.text)\n",
    "else:\n",
    "    print(f\"Failed to retrieve the web page. Status code: {response.status_code}.\")"
   ]
  },
  {
   "cell_type": "markdown",
   "id": "778d7b18-dc27-467b-a263-608976ea7f9f",
   "metadata": {},
   "source": [
    "This time, since the code is now attempting to GET a web resource that doesn’t exist, the server’s response includes the well-known status code `404`, which means “Not found.”\n",
    "\n",
    "In the case of a web page, there may still be some content included in the response. Many websites, Kodeco’s included, present the user with a “404” page when they try to navigate to a URL that doesn’t have a corresponding web page. You’ll find the HTML for Kodeco’s “404” page in the `text` property of the response object."
   ]
  },
  {
   "cell_type": "markdown",
   "id": "906f0542-7aa8-4ef5-8e7b-0494e0fbf560",
   "metadata": {},
   "source": [
    "## Retrieving Information From REST APIs\n",
    "\n",
    "### Making the Simplest Possible GET Request\n",
    "\n",
    "The _Star Wars_ API is a fun API to play with. It’s an API that acts as an encyclopedia of _Star Wars_ people, species, planets, vehicles, spaceships, and films (or at least Episodes 1 through 7). You don’t need to pay or register for an API key to use it — you can simply start making calls to it. The API has a website at [`swapi.dev`](https://swapi.dev/) and its base URL is [`swapi.dev/api`](https://swapi.dev/api/).\n",
    "\n",
    "This API is a rather friendly design. If you make a GET request to the base URL, you’ll receive a JSON object listing all the API endpoints.\n",
    "\n",
    "Make this call:"
   ]
  },
  {
   "cell_type": "code",
   "execution_count": null,
   "id": "78144fe3-caf8-4bd2-9e8a-46ab92182569",
   "metadata": {},
   "outputs": [],
   "source": [
    "import json\n",
    "\n",
    "SWAPI_BASE_URL = \"https://swapi.dev/api/\"\n",
    "response = requests.get(SWAPI_BASE_URL)\n",
    "\n",
    "if response.status_code == 200:\n",
    "    data = response.json()\n",
    "    pretty_json = json.dumps(data, indent=4, sort_keys=True)\n",
    "    print(pretty_json)"
   ]
  },
  {
   "cell_type": "markdown",
   "id": "f3c85af5-39a3-4373-a6e1-3a6218a0616a",
   "metadata": {},
   "source": [
    "When you run the code above, you should see a dictionary listing the _Star Wars_ API’s endpoints, where the keys are the names of the endpoints and the values are the corresponding endpoint URLs. You’ll use one of these URLs shortly.\n",
    "\n",
    "Since we’re calling an API rather than retrieving a web page’s contents, the code uses the response object’s `json()` method instead of its `text` property. The `json()` method automatically converts the JSON text in the response into Python lists and dictionaries, from which you can extract the data you need.\n",
    "\n",
    "To display the retrieved JSON data in a readable format, the code uses the `json.dumps()` method to convert it into a string representation. Using the optional `indent` parameter makes `json.dumps()` format the string using one line per list or dictionary element, using the specified number of spaces for each level of indentation. Setting the optional `sort_keys` parameter to `True` causes `json.dumps()` to present dictionary keys in ascending alphabetical order."
   ]
  },
  {
   "cell_type": "markdown",
   "id": "d20cbf9c-75e4-4f6b-ac77-6db3ab3bf386",
   "metadata": {},
   "source": [
    "### Making a GET Request With Path Parameters\n",
    "\n",
    "Let’s use one of the _Star Wars_ API endpoints: the “people” endpoint.\n",
    "\n",
    "The _Star Wars_ API uses path parameters, which means that you make requests by appending the ID of the resource you want to the end of the URL for the endpint for that resource. In the case of people, you append the ID of the person whose information you want to the “people” endpoint and use the resulting URL for a GET request.\n",
    "\n",
    "You’ve probably already guessed who the _Star Wars_ person with the ID of `1` is. You can confirm it by running the following in a new code cell:"
   ]
  },
  {
   "cell_type": "code",
   "execution_count": null,
   "id": "210b3b59-174f-4c23-95e9-93459886ebc6",
   "metadata": {},
   "outputs": [],
   "source": [
    "PEOPLE_ENDPOINT = \"people/\"\n",
    "person_id = 1\n",
    "response = requests.get(f\"{SWAPI_BASE_URL}{PEOPLE_ENDPOINT}{person_id}\")\n",
    "\n",
    "if response.status_code == 200:\n",
    "    data = response.json()\n",
    "    pretty_json = json.dumps(data, indent=4)\n",
    "    print(pretty_json)"
   ]
  },
  {
   "cell_type": "markdown",
   "id": "a0439096-f197-4939-9059-f5ba23d7a76d",
   "metadata": {},
   "source": [
    "You should see a big dictionary full of information about the _Star Wars_ person with the ID of `1`: none other than Luke Skywalker himself. The JSON object in the response has been converted into a Python dictionary that contains all sorts of information about the character.\n",
    "\n",
    "You may have noticed that some of the information about Luke — such as his homeworld — contains one or more URLs. These URLs act as “pointers” to where that particular information is accessible through the API. To get this information, you perform another GET request using these URLs. Run the code below to get information about Luke Skywalker’s homeworld:"
   ]
  },
  {
   "cell_type": "code",
   "execution_count": null,
   "id": "3d05ac2b-a2b7-4bf6-9629-64e15d83eea1",
   "metadata": {},
   "outputs": [],
   "source": [
    "PEOPLE_ENDPOINT = \"people/\"\n",
    "person_id = 1\n",
    "person_response = requests.get(f\"{SWAPI_BASE_URL}{PEOPLE_ENDPOINT}{person_id}\")\n",
    "\n",
    "if person_response.status_code == 200:\n",
    "    person_data = person_response.json()\n",
    "    homeworld_endpoint = person_data[\"homeworld\"]\n",
    "    homeworld_response = requests.get(homeworld_endpoint)\n",
    "    if homeworld_response.status_code == 200:\n",
    "        homeworld_data = homeworld_response.json()\n",
    "        pretty_json = json.dumps(homeworld_data, indent=4)\n",
    "        print(pretty_json)"
   ]
  },
  {
   "cell_type": "markdown",
   "id": "96269caf-e24a-4f07-bf3b-1a7aa2023d24",
   "metadata": {},
   "source": [
    "You should see a dictionary containing information about Luke’s homeworld, Tatooine.\n",
    "\n",
    "The code above first GETs Luke Skywalker’s information, which is a dictionary. From that dictionary, it takes the value corresponding to the `homeworld` key, which is a string containing the URL for the resource representing Luke’s homeworld. The code GETs this resource and displays it."
   ]
  },
  {
   "cell_type": "markdown",
   "id": "9f829290-f572-4f96-9b8e-1bdf0d986264",
   "metadata": {},
   "source": [
    "### Making a GET Request With Query Parameters\n",
    "\n",
    "Let’s look at an API that uses query parameters, where you provide parameters in the form of a query string at the end of the endpoint URL. The API in question is the [Open-Meteo](https://open-meteo.com/) weather API (_meteo_ is the French word for “weather”). Like the _Star Wars_ API, the Open-Meteo API is free of charge to use and doesn’t require you to register for an API key.\n",
    "\n",
    "Suppose we want to get the current weather in London, England. In order to do so, we need to provide Open-Meteo with the following parameters:\n",
    "\n",
    "<table>\n",
    "    <tr>\n",
    "        <td><strong>Parameter</strong></td>\n",
    "        <td style=\"text-align:left;\"><strong>Description</strong></td>\n",
    "    </tr>\n",
    "    <tr>\n",
    "        <td><code>latitude</code></td>\n",
    "        <td>\n",
    "            <p>The location’s latitude. Positive values mean degrees north of the equator, negative values mean degrees south of the equator, and 0 means the equator. For this example, we’ll use the value <code>51.5072</code>.</p>\n",
    "        </td>\n",
    "    </tr>\n",
    "    <tr>\n",
    "        <td><code>longitude</code></td>\n",
    "        <td>\n",
    "            <p>The location’s longitude. Positive values mean degrees east of the prime meridian, negative values mean degrees west of the prime meridian, and 0 means the prime meridian. For this example, we’ll use the value <code>-0.1276</code>.</p>\n",
    "        </td>\n",
    "    </tr>\n",
    "    <tr>\n",
    "        <td><code>current</code></td>\n",
    "        <td>\n",
    "            <p>The weather values for the current weather that you want to retrieve (listed on <a href=\"https://open-meteo.com/en/docs\">Open-Meteo’s API docs page</a>, in the form of a comma-separated list. For this example, we’ll request three values:</p>\n",
    "            <ul>\n",
    "                <li><code>weathercode</code>: A number code for the current weather at the requested location.</li>\n",
    "                <li><code>temperature_2m</code>: The air temperature at the requested location, as measured at a height of 2 meters (about 6 feet) above the ground. This value is in degrees Celsius.</li>\n",
    "                <li><code>relativehumidity_2m</code>: The relative humidity at the requested location, as measured at a height of 2 meters (about 6 feet) above the ground. This value is expressed as a percentage — between 0 and 100 inclusive.</li>\n",
    "            </ul>\n",
    "        </td>\n",
    "    </tr>\n",
    "</table>\n",
    "\n",
    "Open-Meteo’s endpoint URL for the current weather at a given location is `https://api.open-meteo.com/v1/forecast/`. One way to form the URL for the GET request is to build the URL string starting with the endpoint URL, adding a `?` to the end to denote the start of the query parameters, followed by the query parameters. Here’s the URL for our example (you can click on it to see the response):\n",
    "\n",
    "[`https://api.open-meteo.com/v1/forecast?latitude=51.5072&longitude=-0.1276&current=weathercode,temperature_2m,relativehumidity_2m`](https://api.open-meteo.com/v1/forecast?latitude=51.5072&longitude=-0.1276&current=weathercode,temperature_2m,relativehumidity_2m))\n",
    "\n",
    "While this approach works, it’s cumbersome and error-prone. It’s much better to send the GET request to the endpoint URL and use the `params` parameter of the `request.get()` method to define the query paramerters:"
   ]
  },
  {
   "cell_type": "code",
   "execution_count": null,
   "id": "e3048eb8-08d8-480b-b95a-74135b96a327",
   "metadata": {},
   "outputs": [],
   "source": [
    "WEATHER_ENDPOINT = \"https://api.open-meteo.com/v1/forecast\"\n",
    "parameters = {\n",
    "    \"latitude\":  51.5072,\n",
    "    \"longitude\": -0.1276,\n",
    "    \"current\":   \"weathercode,temperature_2m,relativehumidity_2m\",\n",
    "}\n",
    "response = requests.get(WEATHER_ENDPOINT, params=parameters)\n",
    "\n",
    "if response.status_code == 200:\n",
    "    data = response.json()\n",
    "    pretty_json = json.dumps(data, indent=4)\n",
    "    print(pretty_json)"
   ]
  },
  {
   "cell_type": "markdown",
   "id": "76f71f7d-31b4-4887-aaff-77e8dc13e811",
   "metadata": {},
   "source": [
    "The part of the response that you’re most interested in is the value for the `\"current\"` key, a dictionary containing the values for the `weathercode`, `temperature_2m`, and `relativehumidity_2m` parameters.\n",
    "\n",
    "To translate the `weathercode` value into something more meaningful than a number, we’ll use a dictionary as a lookup table:"
   ]
  },
  {
   "cell_type": "code",
   "execution_count": null,
   "id": "aea4b95e-1787-4300-9d94-e73d7fad8fa1",
   "metadata": {},
   "outputs": [],
   "source": [
    "WEATHER_CODE_TABLE = {\n",
    "    0: \"clear sky\",\n",
    "    1: \"mainly clear\",\n",
    "    2: \"partly cloudy\",\n",
    "    3: \"overcast\",\n",
    "    45: \"fog\",\n",
    "    48: \"depositing rime fog\",\n",
    "    51: \"light drizzle\",\n",
    "    53: \"moderate drizzle\",\n",
    "    55: \"dense drizzle\",\n",
    "    56: \"light freezing drizzle\",\n",
    "    57: \"dense freezing drizzle\",\n",
    "    61: \"slight rain\",\n",
    "    63: \"moderate rain\",\n",
    "    65: \"heavy rain\",\n",
    "    66: \"light freezing rain\",\n",
    "    67: \"heavy freezing rain\",\n",
    "    71: \"slight snow\",\n",
    "    73: \"moderate snow\",\n",
    "    75: \"heavy snow\",\n",
    "    77: \"snow grains\",\n",
    "    80: \"light rain showers\",\n",
    "    81: \"moderate rain showers\",\n",
    "    82: \"violent rain showers\",\n",
    "    85: \"slight snow showers\",\n",
    "    86: \"heavy snow showers\",\n",
    "    95: \"thunderstorm\",\n",
    "    96: \"thunderstorm with slight hail\",\n",
    "    99: \"thunderstorm with heavy hail\",\n",
    "}\n",
    "\n",
    "print(f\"The weather in London is: {WEATHER_CODE_TABLE[data[\"current\"][\"weathercode\"]]}\")"
   ]
  },
  {
   "cell_type": "markdown",
   "id": "ee46ffe8-585e-4d84-ae62-a6b6471a7429",
   "metadata": {},
   "source": [
    "## Adding, Updating, and Deleting Data In APIs\n",
    "\n",
    "In this part of the demo, we’ll use [ReqRes](https://reqres.in/), a REST API designed specifically for testing applications that make calls to an API. You can send GET, POST, PUT, PATCH, and DELETE requests to its endpoints, and it will provide a simulated response. As such, it’s perfect for trying out requests other than GET.\n",
    "\n",
    "ReqRes has a `users` endpoint, located at [`https://reqres.in/api/users/`](https://reqres.in/api/users/), which we’ll use to add, update, and delete resources in the API."
   ]
  },
  {
   "cell_type": "markdown",
   "id": "8811e17f-f071-4c4d-aae8-18d92b414163",
   "metadata": {},
   "source": [
    "### Adding a Resource\n",
    "\n",
    "Let’s pretend that we want to add a new user to the database: the creator of Python, Guido van Rossum. We’ll provide his name and programming language as parameters. We’ll do this by making a POST request to create a new resource in the API:"
   ]
  },
  {
   "cell_type": "code",
   "execution_count": null,
   "id": "a21c1d06-fa58-4766-ba04-bad526bedb14",
   "metadata": {},
   "outputs": [],
   "source": [
    "USERS_ENDPOINT = \"https://reqres.in/api/users/\"\n",
    "post_data = {\n",
    "    \"language\": \"Python\",\n",
    "    \"creator\":  \"Guido van Rossum\",\n",
    "}\n",
    "response = requests.post(USERS_ENDPOINT, data=post_data)\n",
    "\n",
    "if response.status_code == 201:\n",
    "    print(f\"Successfully POSTED the resource. Status code: {response.status_code}.\")\n",
    "    print(\"=====\")\n",
    "    data = response.json()\n",
    "    pretty_json = json.dumps(data, indent=4)\n",
    "    print(pretty_json)\n",
    "else:\n",
    "    print(f\"Failed to POST the resource. Status code: {response.status_code}.\")"
   ]
  },
  {
   "cell_type": "markdown",
   "id": "b1781871-29a4-4680-b888-fcd1a585c627",
   "metadata": {},
   "source": [
    "The response contents will be typical of many APIs that take POST requests, containing the ID of the newly-created resource (in this case, that resource is a new record for Guido van Rossum), the information you provided as POST data, and the date and time when the resource was created.\n",
    "\n",
    "Note that in the code above, we checked for a response status code of `201`, not `200`. That’s because the `201` status code specifically indicates the successful creation of a new resource."
   ]
  },
  {
   "cell_type": "markdown",
   "id": "76971d08-63a7-4648-adb0-cbdec68f87c8",
   "metadata": {},
   "source": [
    "### Updating a Resource\n",
    "\n",
    "There are two ways to update a resource in an API. The first way is to make a PUT request, which is for updating all the data in the resource, which requires you to provide all the data.\n",
    "\n",
    "Suppose we want to update the entry for the user whose ID is 123 by overwriting it with new data: the creator of the Ada programming language, Jean Ichbiah:"
   ]
  },
  {
   "cell_type": "code",
   "execution_count": null,
   "id": "46dffed1-69f4-4b5a-932a-06030f4d9799",
   "metadata": {},
   "outputs": [],
   "source": [
    "path_parameter = 123\n",
    "url = f\"{USERS_ENDPOINT}{path_parameter}\"\n",
    "put_data = {\n",
    "    \"language\": \"Ada\",\n",
    "    \"creator\":  \"Jean Ichbiah\",\n",
    "}\n",
    "response = requests.put(url, data=put_data)\n",
    "\n",
    "if response.status_code == 200:\n",
    "    print(f\"Successfully PUT the resource. Status code: {response.status_code}.\")\n",
    "    print(\"=====\")\n",
    "    data = response.json()\n",
    "    pretty_json = json.dumps(data, indent=4)\n",
    "    print(pretty_json)\n",
    "else:\n",
    "    print(f\"Failed to PUT the resource. Status code: {response.status_code}.\")"
   ]
  },
  {
   "cell_type": "markdown",
   "id": "def5bbd6-57a1-4ca5-9f76-eb8c70b1a47a",
   "metadata": {},
   "source": [
    "The contents of the response contents will be typical for APIs that accept PUT requests. It will contain the all the data for the updated resource and the date and time when the update was made.\n",
    "\n",
    "The other way to update a resource is to make a PATCH request, which is for updating only certain data in the resource, which requires you to provide only the data to be updated.\n",
    "\n",
    "Suppose we want to update the entry we just updated so that the `language` property specifies that the Ada programming language is named after Ada Lovelace, who is famous for her work on Charles Babbage’s analytical engine. Do this by entering the code below into a new code cell and running it:"
   ]
  },
  {
   "cell_type": "code",
   "execution_count": null,
   "id": "84af4c49-09b8-4b0f-bfe1-0bdce0ada1a3",
   "metadata": {},
   "outputs": [],
   "source": [
    "path_parameter = 123\n",
    "url = f\"{USERS_ENDPOINT}{path_parameter}\"\n",
    "patch_data = {\n",
    "    \"language\": \"Ada (named after Ada Lovelace)\",\n",
    "}\n",
    "response = requests.put(url, data=patch_data)\n",
    "\n",
    "if response.status_code == 200:\n",
    "    print(f\"Successfully PATCHed the resource. Status code: {response.status_code}.\")\n",
    "    print(\"=====\")\n",
    "    data = response.json()\n",
    "    pretty_json = json.dumps(data, indent=4)\n",
    "    print(pretty_json)\n",
    "else:\n",
    "    print(f\"Failed to PATCH the resource. Status code: {response.status_code}.\")"
   ]
  },
  {
   "cell_type": "markdown",
   "id": "b3a6d631-0c89-4add-984a-8b33b1c58824",
   "metadata": {},
   "source": [
    "The contents of the response contents will be typical for APIs that accept PATCH requests. It will contain the resource data that was updated and the date and time when the update was made."
   ]
  },
  {
   "cell_type": "markdown",
   "id": "494b693f-5f97-431f-8a2e-208e86e1ec41",
   "metadata": {},
   "source": [
    "### Deleting a Resource\n",
    "\n",
    "Let’s delete the resource with the ID of `123` using the DELETE request:"
   ]
  },
  {
   "cell_type": "code",
   "execution_count": null,
   "id": "1877c85e-0eea-4507-94b7-ebd2ed6a189e",
   "metadata": {},
   "outputs": [],
   "source": [
    "path_parameter = 123\n",
    "url = f\"{USERS_ENDPOINT}{path_parameter}\"\n",
    "response = requests.delete(url)\n",
    "\n",
    "if response.status_code == 204:\n",
    "    print(f\"Successfully DELETEd the resource. Status code: {response.status_code}.\")\n",
    "else:\n",
    "    print(f\"Failed to DELETE the resource. Status code: {response.status_code}.\")"
   ]
  },
  {
   "cell_type": "markdown",
   "id": "940652a3-6e46-402d-aa4e-51ca45de7e88",
   "metadata": {},
   "source": [
    "Note that in the code above, we checked for a response status code of `204`, not `200`. That’s because the `204` status code specifically indicates the successful deletion of a resource.\n",
    "\n",
    "In the next demo, you’ll add another way of calling APIs to your repertoire and then combine both ways to build a small but interesting AI-powered application."
   ]
  }
 ],
 "metadata": {
  "kernelspec": {
   "display_name": "Python 3 (ipykernel)",
   "language": "python",
   "name": "python3"
  },
  "language_info": {
   "codemirror_mode": {
    "name": "ipython",
    "version": 3
   },
   "file_extension": ".py",
   "mimetype": "text/x-python",
   "name": "python",
   "nbconvert_exporter": "python",
   "pygments_lexer": "ipython3",
   "version": "3.12.4"
  }
 },
 "nbformat": 4,
 "nbformat_minor": 5
}
