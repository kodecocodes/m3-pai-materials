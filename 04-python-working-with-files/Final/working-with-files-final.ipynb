{
 "cells": [
  {
   "cell_type": "markdown",
   "id": "498a3c6c-1f88-4153-ac5b-ec66593764bf",
   "metadata": {},
   "source": [
    "# Working With Files (final)"
   ]
  },
  {
   "cell_type": "markdown",
   "id": "5305c744-c54d-4d73-97c7-602f4ac81683",
   "metadata": {},
   "source": [
    "## Programming Languages\n",
    "\n",
    "Here’s the data structure for this demo: `programming_languages`, a list of dictionaries with the following key-value pairs:\n",
    "\n",
    "- `\"name\"`: The name of the programming language\n",
    "- `\"creator\"`: The name of the person or organization who created the programming language\n",
    "- `\"year_appeared\"`: The year when the programming language first appeared\n",
    "- `\"site_url\"`: The URL of the programming language’s official website\n",
    "- `\"active\"`: `True` if the programming language is still active"
   ]
  },
  {
   "cell_type": "code",
   "execution_count": null,
   "id": "0416862c-7a8a-44c6-9817-dbfffaae0ce2",
   "metadata": {},
   "outputs": [],
   "source": [
    "programming_languages = [\n",
    "    {\n",
    "        \"name\": \"Python\",\n",
    "        \"creator\": \"Guido van Rossum\",\n",
    "        \"year_appeared\": 1991,\n",
    "        \"site_url\": \"https://www.python.org/\",\n",
    "        \"active\": True,\n",
    "    },\n",
    "    {\n",
    "        \"name\": \"Miranda\",\n",
    "        \"creator\": \"David Turner\",\n",
    "        \"year_appeared\": 1985,\n",
    "        \"site_url\": \"http://miranda.org.uk/\",\n",
    "        \"active\": False,\n",
    "    },\n",
    "    {\n",
    "        \"name\": \"Ruby\",\n",
    "        \"creator\": \"Yukihiro Matsumoto\",\n",
    "        \"year_appeared\": 1995,\n",
    "        \"site_url\": \"https://www.ruby-lang.org/en/\",\n",
    "        \"active\": True,\n",
    "    },\n",
    "    {\n",
    "        \"name\": \"Rebol\",\n",
    "        \"creator\": \"Carl Sassenrath\",\n",
    "        \"year_appeared\": 1997,\n",
    "        \"site_url\": \"http://www.rebol.com/\",\n",
    "        \"active\": False,\n",
    "    },\n",
    "    {\n",
    "        \"name\": \"Swift\",\n",
    "        \"creator\": \"Chris Lattner\",\n",
    "        \"year_appeared\": 2014,\n",
    "        \"site_url\": \"https://www.swift.org/\",\n",
    "        \"active\": True,\n",
    "    },\n",
    "    {\n",
    "        \"name\": \"ActionScript\",\n",
    "        \"creator\": \"Gary Grossman\",\n",
    "        \"year_appeared\": 1998,\n",
    "        \"site_url\": \"https://www.adobe.com/devnet/actionscript/articles/actionscript3_overview.html\",\n",
    "        \"active\": False,\n",
    "    },\n",
    "    {\n",
    "        \"name\": \"Kotlin\",\n",
    "        \"creator\": \"JetBrains\",\n",
    "        \"year_appeared\": 2011,\n",
    "        \"site_url\": \"https://kotlinlang.org/\",\n",
    "        \"active\": True,\n",
    "    },\n",
    "    {\n",
    "        \"name\": \"CoffeeScript\",\n",
    "        \"creator\": \"Jeremy Ashkenas\",\n",
    "        \"year_appeared\": 2009,\n",
    "        \"site_url\": \"https://coffeescript.org/\",\n",
    "        \"active\": False,\n",
    "    },\n",
    "]"
   ]
  },
  {
   "cell_type": "markdown",
   "id": "ae522494-ac63-4aad-a19e-4ba8f9c2d7b6",
   "metadata": {},
   "source": [
    "## Working With Text Files"
   ]
  },
  {
   "cell_type": "code",
   "execution_count": null,
   "id": "c6e2f0d3-7665-4195-831f-e9560331fe95",
   "metadata": {},
   "outputs": [],
   "source": [
    "file = open(\"programming-languages.txt\", \"w\")\n",
    "file.write(\"Programming Languages\\n\")\n",
    "file.write(\"=====================\\n\")\n",
    "file.close()"
   ]
  },
  {
   "cell_type": "code",
   "execution_count": null,
   "id": "bd080658-02d3-43ea-8311-5eed4157b376",
   "metadata": {},
   "outputs": [],
   "source": [
    "with open(\"programming-languages.txt\", \"w\") as file:\n",
    "    file.write(\"Programming Languages\\n\")\n",
    "    file.write(\"=====================\\n\")\n",
    "    \n",
    "    for language in programming_languages:\n",
    "        line = (\n",
    "            f\"{language[\"name\"]} was created by {language[\"creator\"]} \" + \n",
    "            f\"and first appeared in {language[\"year_appeared\"]}.\\n\"\n",
    "        )\n",
    "        file.write(line)"
   ]
  },
  {
   "cell_type": "code",
   "execution_count": null,
   "id": "6ea5b7cf-9205-40fe-a3af-64b7d05e76d9",
   "metadata": {},
   "outputs": [],
   "source": [
    "old_school_languages = [\n",
    "    \"ALGOL\\n\"\n",
    "    \"BASIC\\n\",\n",
    "    \"COBOL\\n\",\n",
    "    \"FORTRAN\\n\",\n",
    "    \"Lisp\\n\"\n",
    "]\n",
    "\n",
    "with open(\"programming-languages.txt\", \"a\") as file:\n",
    "    file.write(\"Let's not forget the old guard:\\n\")\n",
    "    file.writelines(old_school_languages)"
   ]
  },
  {
   "cell_type": "code",
   "execution_count": null,
   "id": "fedf474f-79ed-449b-8102-94541917d7c5",
   "metadata": {},
   "outputs": [],
   "source": [
    "with open(\"programming-languages.txt\", \"r\") as file:\n",
    "    data = file.read()\n",
    "print(data)"
   ]
  },
  {
   "cell_type": "code",
   "execution_count": null,
   "id": "bfa501dc-d38b-4093-8f8e-edb09adc2a7d",
   "metadata": {},
   "outputs": [],
   "source": [
    "with open(\"programming-languages.txt\", \"r\") as file:\n",
    "    data = file.readlines()\n",
    "print(data)"
   ]
  },
  {
   "cell_type": "code",
   "execution_count": null,
   "id": "465c57d5-db35-4cc2-abaf-b80e39087def",
   "metadata": {},
   "outputs": [],
   "source": [
    "with open(\"programming-languages.txt\", \"r\") as file:\n",
    "   for line in file:\n",
    "       print(line)"
   ]
  },
  {
   "cell_type": "code",
   "execution_count": null,
   "id": "f3eff02c-0211-4389-b651-ef4927c4de6f",
   "metadata": {},
   "outputs": [],
   "source": [
    "try:\n",
    "    with open(\"does-not-exist.txt\", \"r\") as file:\n",
    "        data = file.read()\n",
    "except FileNotFoundError as e:\n",
    "    print(f\"File not found! Details:\\n{e}\")\n",
    "except OSError as e:\n",
    "    print(f\"I/O error (probably)! Details:\\n{e}\")\n",
    "except Exception as e:\n",
    "    print(\"An unexpected error occurred! Call the developer.\")\n",
    "    print(f\"Details:\\n{e}\")"
   ]
  },
  {
   "cell_type": "code",
   "execution_count": null,
   "id": "637424fa-427a-479e-804e-b193f8fb8bf2",
   "metadata": {},
   "outputs": [],
   "source": [
    "import random\n",
    "\n",
    "try:\n",
    "    with open(\"programming-languages.txt\", \"r\") as file:\n",
    "        if random.randint(1, 3) == 1:\n",
    "            raise OSError(\"Disk error\")\n",
    "        print(file.read())\n",
    "except FileNotFoundError as e:\n",
    "    print(f\"File not found! Details:\\n{e}\")\n",
    "except OSError as e:\n",
    "    print(f\"I/O error (probably)! Details:\\n{e}\")\n",
    "except Exception as e:\n",
    "    print(\"An unexpected error occurred! Call the developer.\")\n",
    "    print(f\"Details:\\n{e}\")\n",
    "else:\n",
    "    print(\"Congratulations! No errors!\")\n",
    "finally:\n",
    "    print(\"All done.\")"
   ]
  },
  {
   "cell_type": "markdown",
   "id": "c8f2fbf8-18ae-4229-9b10-0d0a12a33184",
   "metadata": {},
   "source": [
    "## Working With CSV Files"
   ]
  },
  {
   "cell_type": "code",
   "execution_count": null,
   "id": "0a1ffc21-f222-4680-868b-149333bcadd8",
   "metadata": {},
   "outputs": [],
   "source": [
    "import csv\n",
    "\n",
    "with open('operating-systems.csv', 'w') as file:\n",
    "    writer = csv.writer(file)\n",
    "    \n",
    "    # Write header row\n",
    "    writer.writerow(['operating_system', 'creator', 'year'])\n",
    "    \n",
    "    # Write data rows\n",
    "    data_rows = [\n",
    "        [\"MS-DOS\", \"Microsoft\", 1981],\n",
    "        [\"macOS\", \"Apple\", 1984],\n",
    "        [\"Windows\", \"Microsoft\", 1985],\n",
    "        [\"Linux\", \"Linus Torvalds\", 1991],\n",
    "    ]\n",
    "    writer.writerows(data_rows)"
   ]
  },
  {
   "cell_type": "code",
   "execution_count": null,
   "id": "f0c13d11-5c57-4e11-88e1-557ac48134fe",
   "metadata": {},
   "outputs": [],
   "source": [
    "with open(\"operating-systems.csv\", \"r\") as file:\n",
    "    reader = csv.reader(file)\n",
    "    for row in reader:\n",
    "        print(row)"
   ]
  },
  {
   "cell_type": "code",
   "execution_count": null,
   "id": "e70e03f5-31e1-4f12-aa4c-72a382d42f3b",
   "metadata": {},
   "outputs": [],
   "source": [
    "with open(\"operating-systems.csv\", \"r\") as file:\n",
    "    reader = csv.DictReader(file)\n",
    "    for row in reader:\n",
    "        print(row)"
   ]
  },
  {
   "cell_type": "code",
   "execution_count": null,
   "id": "06a18812-a78e-472b-8e86-0b1767c4f849",
   "metadata": {},
   "outputs": [],
   "source": [
    "field_names = [\n",
    "    \"name\",\n",
    "    \"creator\",\n",
    "    \"year_appeared\",\n",
    "    \"site_url\",\n",
    "    \"active\",\n",
    "]\n",
    "with open(\"programming languages.csv\", 'w') as file:\n",
    "    writer = csv.DictWriter(file, fieldnames=field_names)\n",
    "    \n",
    "    writer.writeheader()\n",
    "    for row in programming_languages:\n",
    "        writer.writerow(row)"
   ]
  },
  {
   "cell_type": "code",
   "execution_count": null,
   "id": "60994cac-2056-4537-bdcc-a13e3ac4c39c",
   "metadata": {},
   "outputs": [],
   "source": [
    "with open(\"programming languages.csv\", \"r\") as file:\n",
    "    reader = csv.DictReader(file)\n",
    "    for row in reader:\n",
    "        print(row)"
   ]
  },
  {
   "cell_type": "markdown",
   "id": "ab5f8cc2-45da-4060-8b19-cf963e73d025",
   "metadata": {},
   "source": [
    "## Working With JSON Files"
   ]
  },
  {
   "cell_type": "code",
   "execution_count": null,
   "id": "6c715027-33e3-4e23-be80-94a962c5ccf2",
   "metadata": {},
   "outputs": [],
   "source": [
    "import json\n",
    "\n",
    "with open(\"programming-languages.json\", \"w\") as file:\n",
    "    json.dump(programming_languages, file, indent=4, ensure_ascii=False)"
   ]
  },
  {
   "cell_type": "code",
   "execution_count": null,
   "id": "4d8548d0-ef2e-42a0-a4eb-43439521dfe4",
   "metadata": {},
   "outputs": [],
   "source": [
    "with open(\"programming-languages.json\", \"r\") as file:\n",
    "    data = json.load(file)\n",
    "    print(data)"
   ]
  },
  {
   "cell_type": "code",
   "execution_count": null,
   "id": "8ae03e5a-c7ec-4e3d-9904-4f861e187953",
   "metadata": {},
   "outputs": [],
   "source": [
    "try:\n",
    "    with open(\"programming-languages.json\", \"r\") as file:\n",
    "        data = json.load(file)\n",
    "        print(data)\n",
    "except json.JSONDecodeError as e:\n",
    "    print(f\"JSON decoding error: {e}\")\n",
    "except FileNotFoundError as e:\n",
    "    print(f\"File not found! Details:\\n{e}\")\n",
    "except OSError as e:\n",
    "    print(f\"I/O error (probably)! Details:\\n{e}\")\n",
    "except Exception as e:\n",
    "    print(\"An unexpected error occurred! Call the developer.\")\n",
    "    print(f\"Details:\\n{e}\")\n",
    "else:\n",
    "    print(\"Congratulations! No errors!\")\n",
    "finally:\n",
    "    print(\"All done.\")"
   ]
  }
 ],
 "metadata": {
  "kernelspec": {
   "display_name": "Python 3 (ipykernel)",
   "language": "python",
   "name": "python3"
  },
  "language_info": {
   "codemirror_mode": {
    "name": "ipython",
    "version": 3
   },
   "file_extension": ".py",
   "mimetype": "text/x-python",
   "name": "python",
   "nbconvert_exporter": "python",
   "pygments_lexer": "ipython3",
   "version": "3.12.4"
  }
 },
 "nbformat": 4,
 "nbformat_minor": 5
}
