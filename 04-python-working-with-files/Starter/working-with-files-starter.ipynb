{
 "cells": [
  {
   "cell_type": "markdown",
   "id": "0ad0c923-775f-4576-ac0d-f3a37a5fd42d",
   "metadata": {},
   "source": [
    "# Working With Files (starter)"
   ]
  },
  {
   "cell_type": "markdown",
   "id": "9091e084-04cd-4d5a-ad69-8f01ff5592da",
   "metadata": {},
   "source": [
    "## Programming Languages\n",
    "\n",
    "Here’s the data structure for this demo: `programming_languages`, a list of dictionaries with the following key-value pairs:\n",
    "\n",
    "- `\"name\"`: The name of the programming language\n",
    "- `\"creator\"`: The name of the person or organization who created the programming language\n",
    "- `\"year_appeared\"`: The year when the programming language first appeared\n",
    "- `\"site_url\"`: The URL of the programming language’s official website\n",
    "- `\"active\"`: `True` if the programming language is still active"
   ]
  },
  {
   "cell_type": "code",
   "execution_count": null,
   "id": "4f307a7d-60b1-42c2-87d1-b43aa1041adb",
   "metadata": {},
   "outputs": [],
   "source": [
    "programming_languages = [\n",
    "    {\n",
    "        \"name\": \"Python\",\n",
    "        \"creator\": \"Guido van Rossum\",\n",
    "        \"year_appeared\": 1991,\n",
    "        \"site_url\": \"https://www.python.org/\",\n",
    "        \"active\": True,\n",
    "    },\n",
    "    {\n",
    "        \"name\": \"Miranda\",\n",
    "        \"creator\": \"David Turner\",\n",
    "        \"year_appeared\": 1985,\n",
    "        \"site_url\": \"http://miranda.org.uk/\",\n",
    "        \"active\": False,\n",
    "    },\n",
    "    {\n",
    "        \"name\": \"Ruby\",\n",
    "        \"creator\": \"Yukihiro Matsumoto\",\n",
    "        \"year_appeared\": 1995,\n",
    "        \"site_url\": \"https://www.ruby-lang.org/en/\",\n",
    "        \"active\": True,\n",
    "    },\n",
    "    {\n",
    "        \"name\": \"Rebol\",\n",
    "        \"creator\": \"Carl Sassenrath\",\n",
    "        \"year_appeared\": 1997,\n",
    "        \"site_url\": \"http://www.rebol.com/\",\n",
    "        \"active\": False,\n",
    "    },\n",
    "    {\n",
    "        \"name\": \"Swift\",\n",
    "        \"creator\": \"Chris Lattner\",\n",
    "        \"year_appeared\": 2014,\n",
    "        \"site_url\": \"https://www.swift.org/\",\n",
    "        \"active\": True,\n",
    "    },\n",
    "    {\n",
    "        \"name\": \"ActionScript\",\n",
    "        \"creator\": \"Gary Grossman\",\n",
    "        \"year_appeared\": 1998,\n",
    "        \"site_url\": \"https://www.adobe.com/devnet/actionscript/articles/actionscript3_overview.html\",\n",
    "        \"active\": False,\n",
    "    },\n",
    "    {\n",
    "        \"name\": \"Kotlin\",\n",
    "        \"creator\": \"JetBrains\",\n",
    "        \"year_appeared\": 2011,\n",
    "        \"site_url\": \"https://kotlinlang.org/\",\n",
    "        \"active\": True,\n",
    "    },\n",
    "    {\n",
    "        \"name\": \"CoffeeScript\",\n",
    "        \"creator\": \"Jeremy Ashkenas\",\n",
    "        \"year_appeared\": 2009,\n",
    "        \"site_url\": \"https://coffeescript.org/\",\n",
    "        \"active\": False,\n",
    "    },\n",
    "]"
   ]
  },
  {
   "cell_type": "markdown",
   "id": "259920ac-393a-4cd9-8bba-2982b38381bb",
   "metadata": {},
   "source": [
    "## Working With Text Files"
   ]
  },
  {
   "cell_type": "code",
   "execution_count": null,
   "id": "215ea7cc-3b73-4be0-86e9-1f0d03377d73",
   "metadata": {},
   "outputs": [],
   "source": []
  },
  {
   "cell_type": "markdown",
   "id": "203b5009-9a16-4bd6-89c2-51231081bae6",
   "metadata": {},
   "source": [
    "## Working With CSV Files"
   ]
  },
  {
   "cell_type": "code",
   "execution_count": null,
   "id": "985fb624-1cec-4e21-981b-e9ba101fda43",
   "metadata": {},
   "outputs": [],
   "source": []
  },
  {
   "cell_type": "markdown",
   "id": "c98ad1e9-917b-4fd1-bda0-fc6d66fc3c59",
   "metadata": {},
   "source": [
    "## Working With JSON Files"
   ]
  },
  {
   "cell_type": "code",
   "execution_count": null,
   "id": "3d6b7594-0f16-404e-a059-befb3e5eef87",
   "metadata": {},
   "outputs": [],
   "source": []
  }
 ],
 "metadata": {
  "kernelspec": {
   "display_name": "Python 3 (ipykernel)",
   "language": "python",
   "name": "python3"
  },
  "language_info": {
   "codemirror_mode": {
    "name": "ipython",
    "version": 3
   },
   "file_extension": ".py",
   "mimetype": "text/x-python",
   "name": "python",
   "nbconvert_exporter": "python",
   "pygments_lexer": "ipython3",
   "version": "3.12.4"
  }
 },
 "nbformat": 4,
 "nbformat_minor": 5
}
